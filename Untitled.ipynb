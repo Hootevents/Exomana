{
 "cells": [
  {
   "cell_type": "code",
   "execution_count": 11,
   "id": "b6b02b49-cdfe-41e8-9db5-8c2fd4854380",
   "metadata": {},
   "outputs": [
    {
     "name": "stdout",
     "output_type": "stream",
     "text": [
      "Collecting flask\n",
      "  Using cached Flask-2.2.2-py3-none-any.whl (101 kB)\n",
      "Requirement already satisfied: Jinja2>=3.0 in c:\\users\\hooti\\appdata\\local\\programs\\python\\python310\\lib\\site-packages (from flask) (3.1.2)\n",
      "Collecting click>=8.0\n",
      "  Using cached click-8.1.3-py3-none-any.whl (96 kB)\n",
      "Collecting itsdangerous>=2.0\n",
      "  Using cached itsdangerous-2.1.2-py3-none-any.whl (15 kB)\n",
      "Collecting Werkzeug>=2.2.2\n",
      "  Using cached Werkzeug-2.2.2-py3-none-any.whl (232 kB)\n",
      "Requirement already satisfied: colorama in c:\\users\\hooti\\appdata\\local\\programs\\python\\python310\\lib\\site-packages (from click>=8.0->flask) (0.4.4)\n",
      "Requirement already satisfied: MarkupSafe>=2.0 in c:\\users\\hooti\\appdata\\local\\programs\\python\\python310\\lib\\site-packages (from Jinja2>=3.0->flask) (2.1.1)\n",
      "Installing collected packages: Werkzeug, itsdangerous, click, flask\n",
      "Successfully installed Werkzeug-2.2.2 click-8.1.3 flask-2.2.2 itsdangerous-2.1.2\n"
     ]
    }
   ],
   "source": [
    "!pip3 install flask"
   ]
  },
  {
   "cell_type": "code",
   "execution_count": 12,
   "id": "2d6514cd-84e5-43f7-98a9-691a4956b875",
   "metadata": {},
   "outputs": [
    {
     "name": "stdout",
     "output_type": "stream",
     "text": [
      "Collecting flask-login\n",
      "  Using cached Flask_Login-0.6.2-py3-none-any.whl (17 kB)\n",
      "Requirement already satisfied: Flask>=1.0.4 in c:\\users\\hooti\\appdata\\local\\programs\\python\\python310\\lib\\site-packages (from flask-login) (2.2.2)\n",
      "Requirement already satisfied: Werkzeug>=1.0.1 in c:\\users\\hooti\\appdata\\local\\programs\\python\\python310\\lib\\site-packages (from flask-login) (2.2.2)\n",
      "Requirement already satisfied: Jinja2>=3.0 in c:\\users\\hooti\\appdata\\local\\programs\\python\\python310\\lib\\site-packages (from Flask>=1.0.4->flask-login) (3.1.2)\n",
      "Requirement already satisfied: click>=8.0 in c:\\users\\hooti\\appdata\\local\\programs\\python\\python310\\lib\\site-packages (from Flask>=1.0.4->flask-login) (8.1.3)\n",
      "Requirement already satisfied: itsdangerous>=2.0 in c:\\users\\hooti\\appdata\\local\\programs\\python\\python310\\lib\\site-packages (from Flask>=1.0.4->flask-login) (2.1.2)\n",
      "Requirement already satisfied: MarkupSafe>=2.1.1 in c:\\users\\hooti\\appdata\\local\\programs\\python\\python310\\lib\\site-packages (from Werkzeug>=1.0.1->flask-login) (2.1.1)\n",
      "Requirement already satisfied: colorama in c:\\users\\hooti\\appdata\\local\\programs\\python\\python310\\lib\\site-packages (from click>=8.0->Flask>=1.0.4->flask-login) (0.4.4)\n",
      "Installing collected packages: flask-login\n",
      "Successfully installed flask-login-0.6.2\n"
     ]
    }
   ],
   "source": [
    "!pip3 install flask-login"
   ]
  },
  {
   "cell_type": "code",
   "execution_count": 13,
   "id": "878ed876-fe32-458b-b443-9ca5914dce99",
   "metadata": {},
   "outputs": [
    {
     "name": "stdout",
     "output_type": "stream",
     "text": [
      "Collecting flask-sqlalchemy\n",
      "  Using cached Flask_SQLAlchemy-3.0.2-py3-none-any.whl (24 kB)\n",
      "Requirement already satisfied: Flask>=2.2 in c:\\users\\hooti\\appdata\\local\\programs\\python\\python310\\lib\\site-packages (from flask-sqlalchemy) (2.2.2)\n",
      "Collecting SQLAlchemy>=1.4.18\n",
      "  Downloading SQLAlchemy-1.4.45-cp310-cp310-win_amd64.whl (1.6 MB)\n",
      "     ---------------------------------------- 1.6/1.6 MB 6.3 MB/s eta 0:00:00\n",
      "Requirement already satisfied: Jinja2>=3.0 in c:\\users\\hooti\\appdata\\local\\programs\\python\\python310\\lib\\site-packages (from Flask>=2.2->flask-sqlalchemy) (3.1.2)\n",
      "Requirement already satisfied: itsdangerous>=2.0 in c:\\users\\hooti\\appdata\\local\\programs\\python\\python310\\lib\\site-packages (from Flask>=2.2->flask-sqlalchemy) (2.1.2)\n",
      "Requirement already satisfied: click>=8.0 in c:\\users\\hooti\\appdata\\local\\programs\\python\\python310\\lib\\site-packages (from Flask>=2.2->flask-sqlalchemy) (8.1.3)\n",
      "Requirement already satisfied: Werkzeug>=2.2.2 in c:\\users\\hooti\\appdata\\local\\programs\\python\\python310\\lib\\site-packages (from Flask>=2.2->flask-sqlalchemy) (2.2.2)\n",
      "Collecting greenlet!=0.4.17\n",
      "  Downloading greenlet-2.0.1-cp310-cp310-win_amd64.whl (190 kB)\n",
      "     ------------------------------------- 190.9/190.9 kB 12.0 MB/s eta 0:00:00\n",
      "Requirement already satisfied: colorama in c:\\users\\hooti\\appdata\\local\\programs\\python\\python310\\lib\\site-packages (from click>=8.0->Flask>=2.2->flask-sqlalchemy) (0.4.4)\n",
      "Requirement already satisfied: MarkupSafe>=2.0 in c:\\users\\hooti\\appdata\\local\\programs\\python\\python310\\lib\\site-packages (from Jinja2>=3.0->Flask>=2.2->flask-sqlalchemy) (2.1.1)\n",
      "Installing collected packages: greenlet, SQLAlchemy, flask-sqlalchemy\n",
      "Successfully installed SQLAlchemy-1.4.45 flask-sqlalchemy-3.0.2 greenlet-2.0.1\n",
      " * Serving Flask app 'website'\n",
      " * Debug mode: on\n"
     ]
    },
    {
     "name": "stderr",
     "output_type": "stream",
     "text": [
      "WARNING: This is a development server. Do not use it in a production deployment. Use a production WSGI server instead.\n",
      " * Running on http://127.0.0.1:5000\n",
      "Press CTRL+C to quit\n",
      " * Restarting with stat\n",
      " * Debugger is active!\n",
      " * Debugger PIN: 415-589-473\n",
      " * Detected change in 'C:\\\\Users\\\\Hooti\\\\Python Kram\\\\Exomana\\\\FLASK WEB APP TUTORIAL\\\\main.py', reloading\n",
      " * Restarting with stat\n",
      " * Debugger is active!\n",
      " * Debugger PIN: 415-589-473\n",
      "127.0.0.1 - - [18/Dec/2022 12:59:01] \"GET / HTTP/1.1\" 404 -\n",
      "127.0.0.1 - - [18/Dec/2022 12:59:01] \"GET /favicon.ico HTTP/1.1\" 404 -\n",
      "127.0.0.1 - - [18/Dec/2022 12:59:07] \"GET / HTTP/1.1\" 404 -\n",
      " * Detected change in 'C:\\\\Users\\\\Hooti\\\\Python Kram\\\\Exomana\\\\FLASK WEB APP TUTORIAL\\\\website\\\\auth.py', reloading\n",
      " * Restarting with stat\n",
      " * Debugger is active!\n",
      " * Debugger PIN: 415-589-473\n",
      " * Detected change in 'C:\\\\Users\\\\Hooti\\\\Python Kram\\\\Exomana\\\\FLASK WEB APP TUTORIAL\\\\website\\\\views.py', reloading\n",
      " * Restarting with stat\n",
      " * Debugger is active!\n",
      " * Debugger PIN: 415-589-473\n",
      " * Detected change in 'C:\\\\Users\\\\Hooti\\\\Python Kram\\\\Exomana\\\\FLASK WEB APP TUTORIAL\\\\website\\\\views.py', reloading\n",
      " * Restarting with stat\n",
      " * Debugger is active!\n",
      " * Debugger PIN: 415-589-473\n",
      " * Detected change in 'C:\\\\Users\\\\Hooti\\\\Python Kram\\\\Exomana\\\\FLASK WEB APP TUTORIAL\\\\website\\\\models.py', reloading\n",
      " * Restarting with stat\n",
      " * Debugger is active!\n",
      " * Debugger PIN: 415-589-473\n",
      " * Detected change in 'C:\\\\Users\\\\Hooti\\\\Python Kram\\\\Exomana\\\\FLASK WEB APP TUTORIAL\\\\website\\\\.ipynb_checkpoints\\\\auth-checkpoint.py', reloading\n",
      " * Restarting with stat\n",
      " * Debugger is active!\n",
      " * Debugger PIN: 415-589-473\n",
      "127.0.0.1 - - [18/Dec/2022 13:04:24] \"GET / HTTP/1.1\" 404 -\n",
      " * Detected change in 'C:\\\\Users\\\\Hooti\\\\Python Kram\\\\Exomana\\\\FLASK WEB APP TUTORIAL\\\\website\\\\views.py', reloading\n",
      " * Restarting with stat\n",
      " * Debugger is active!\n",
      " * Debugger PIN: 415-589-473\n",
      " * Detected change in 'C:\\\\Users\\\\Hooti\\\\Python Kram\\\\Exomana\\\\FLASK WEB APP TUTORIAL\\\\website\\\\__init__.py', reloading\n",
      " * Restarting with stat\n",
      "Traceback (most recent call last):\n",
      "  File \"C:\\Users\\Hooti\\Python Kram\\Exomana\\FLASK WEB APP TUTORIAL\\main.py\", line 3, in <module>\n",
      "    app = create_app()\n",
      "  File \"C:\\Users\\Hooti\\Python Kram\\Exomana\\FLASK WEB APP TUTORIAL\\website\\__init__.py\", line 10, in create_app\n",
      "    app.register\n",
      "AttributeError: 'Flask' object has no attribute 'register'\n"
     ]
    }
   ],
   "source": [
    "!pip3 install flask-sqlalchemy"
   ]
  },
  {
   "cell_type": "code",
   "execution_count": 10,
   "id": "3dc03e96-92cd-4102-8bea-37cec515de10",
   "metadata": {},
   "outputs": [
    {
     "name": "stdout",
     "output_type": "stream",
     "text": [
      "^C\n"
     ]
    }
   ],
   "source": [
    "!python \"FLASK WEB APP TUTORIAL/main.py\""
   ]
  },
  {
   "cell_type": "code",
   "execution_count": null,
   "id": "5802f42c-6ad6-4b86-814b-a2bacdc77714",
   "metadata": {},
   "outputs": [],
   "source": []
  }
 ],
 "metadata": {
  "kernelspec": {
   "display_name": "Python 3 (ipykernel)",
   "language": "python",
   "name": "python3"
  },
  "language_info": {
   "codemirror_mode": {
    "name": "ipython",
    "version": 3
   },
   "file_extension": ".py",
   "mimetype": "text/x-python",
   "name": "python",
   "nbconvert_exporter": "python",
   "pygments_lexer": "ipython3",
   "version": "3.10.4"
  }
 },
 "nbformat": 4,
 "nbformat_minor": 5
}

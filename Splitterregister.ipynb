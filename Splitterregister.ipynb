{
 "cells": [
  {
   "cell_type": "markdown",
   "id": "f4730644-235a-4986-b67c-f0c6283ab466",
   "metadata": {
    "tags": []
   },
   "source": [
    "# Ziele:\n",
    "- Tabelle, die die Spieler, Charaktere und Splitter der einzelnen Charaktere beinhaltet\n",
    "    - _Tabelle erstellen_\n",
    "    - _Hinzufügen von Charakteren ermöglichen_\n",
    "    - _Splitter hinzufügen und abziehen_\n",
    "    - "
   ]
  },
  {
   "cell_type": "code",
   "execution_count": 10,
   "id": "8a4f0d93-7653-4c35-bd7c-94a462c28ecd",
   "metadata": {},
   "outputs": [],
   "source": [
    "import pandas as pd"
   ]
  },
  {
   "cell_type": "code",
   "execution_count": 36,
   "id": "05de423f-693e-4bee-a296-c35ae5636a96",
   "metadata": {},
   "outputs": [],
   "source": []
  },
  {
   "cell_type": "code",
   "execution_count": 37,
   "id": "14775c6b-ab7e-45e6-af42-7a4967643fda",
   "metadata": {},
   "outputs": [],
   "source": []
  },
  {
   "cell_type": "code",
   "execution_count": 106,
   "id": "b32ede7a-35d3-4bd0-8bae-e3e37c389486",
   "metadata": {},
   "outputs": [],
   "source": [
    "def addCharakterSpieler(charakter:str, spieler:str):\n",
    "    global spielerliste \n",
    "    spielerliste = pd.concat([spielerliste, pd.Series({charakter : spieler})])\n",
    "    setSplitter(charakter,0)\n",
    "    #return pd.concat([spielerliste, pd.Series({charakter : spieler})])\n",
    "\n",
    "def setSplitter(charakter:str, neueSplittermenge:int):\n",
    "    global splitterliste\n",
    "    splitterliste[charakter] = neueSplittermenge\n",
    "    \n",
    "def addSplitter(charakter:str, anzahl:int):\n",
    "    global splitterliste\n",
    "    splitterliste[charakter] = splitterliste[charakter] + anzahl"
   ]
  },
  {
   "cell_type": "code",
   "execution_count": 107,
   "id": "e26b45dc-300e-4f45-98e4-a8d8138e9832",
   "metadata": {},
   "outputs": [
    {
     "data": {
      "text/html": [
       "<div>\n",
       "<style scoped>\n",
       "    .dataframe tbody tr th:only-of-type {\n",
       "        vertical-align: middle;\n",
       "    }\n",
       "\n",
       "    .dataframe tbody tr th {\n",
       "        vertical-align: top;\n",
       "    }\n",
       "\n",
       "    .dataframe thead th {\n",
       "        text-align: right;\n",
       "    }\n",
       "</style>\n",
       "<table border=\"1\" class=\"dataframe\">\n",
       "  <thead>\n",
       "    <tr style=\"text-align: right;\">\n",
       "      <th></th>\n",
       "      <th>Spieler</th>\n",
       "      <th>Splitter</th>\n",
       "    </tr>\n",
       "  </thead>\n",
       "  <tbody>\n",
       "    <tr>\n",
       "      <th>Kra</th>\n",
       "      <td>Christian</td>\n",
       "      <td>3</td>\n",
       "    </tr>\n",
       "    <tr>\n",
       "      <th>Ittut</th>\n",
       "      <td>Tutti</td>\n",
       "      <td>27</td>\n",
       "    </tr>\n",
       "    <tr>\n",
       "      <th>sektum</th>\n",
       "      <td>Dori</td>\n",
       "      <td>32</td>\n",
       "    </tr>\n",
       "    <tr>\n",
       "      <th>sempra</th>\n",
       "      <td>Dori</td>\n",
       "      <td>100</td>\n",
       "    </tr>\n",
       "    <tr>\n",
       "      <th>Olaf</th>\n",
       "      <td>Silsa</td>\n",
       "      <td>0</td>\n",
       "    </tr>\n",
       "  </tbody>\n",
       "</table>\n",
       "</div>"
      ],
      "text/plain": [
       "          Spieler  Splitter\n",
       "Kra     Christian         3\n",
       "Ittut       Tutti        27\n",
       "sektum       Dori        32\n",
       "sempra       Dori       100\n",
       "Olaf        Silsa         0"
      ]
     },
     "execution_count": 107,
     "metadata": {},
     "output_type": "execute_result"
    }
   ],
   "source": [
    "splitterliste = pd.Series({\n",
    "                    'Kra': 3,\n",
    "                    'Ittut' : 37,\n",
    "                    'sektum' : 32,\n",
    "                    'sempra' : 2003\n",
    "                    })\n",
    "spielerliste = pd.Series({\n",
    "                    'Kra': 'Christian',\n",
    "                    'Ittut' : 'Tutti',\n",
    "                    'sektum' : 'Dori',\n",
    "                    'sempra' : 'Dori'\n",
    "                    })\n",
    " \n",
    "addCharakter('Olaf','Silsa')\n",
    "setSplitter('sempra', 100)\n",
    "addSplitter('Ittut', -10)\n",
    "\n",
    "register = pd.DataFrame({ 'Spieler' : spielerliste, 'Splitter' : splitterliste,}\n",
    "             \n",
    "            )\n",
    "register"
   ]
  },
  {
   "cell_type": "code",
   "execution_count": null,
   "id": "67ec877d-901d-4d1e-abad-dda697e3b696",
   "metadata": {},
   "outputs": [],
   "source": []
  },
  {
   "cell_type": "code",
   "execution_count": null,
   "id": "626cff24-c6f2-4ad7-94ca-f76044697427",
   "metadata": {},
   "outputs": [],
   "source": []
  }
 ],
 "metadata": {
  "kernelspec": {
   "display_name": "Python 3 (ipykernel)",
   "language": "python",
   "name": "python3"
  },
  "language_info": {
   "codemirror_mode": {
    "name": "ipython",
    "version": 3
   },
   "file_extension": ".py",
   "mimetype": "text/x-python",
   "name": "python",
   "nbconvert_exporter": "python",
   "pygments_lexer": "ipython3",
   "version": "3.10.4"
  }
 },
 "nbformat": 4,
 "nbformat_minor": 5
}
